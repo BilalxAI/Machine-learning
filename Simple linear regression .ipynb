{
 "cells": [
  {
   "cell_type": "code",
   "execution_count": 4,
   "id": "9683ef7f",
   "metadata": {},
   "outputs": [],
   "source": [
    "import numpy as np\n",
    "import pandas as pd\n",
    "data=pd.read_csv(\"D:/USA_Housing.csv\")"
   ]
  },
  {
   "cell_type": "code",
   "execution_count": 78,
   "id": "8bd83100",
   "metadata": {},
   "outputs": [
    {
     "data": {
      "text/html": [
       "<div>\n",
       "<style scoped>\n",
       "    .dataframe tbody tr th:only-of-type {\n",
       "        vertical-align: middle;\n",
       "    }\n",
       "\n",
       "    .dataframe tbody tr th {\n",
       "        vertical-align: top;\n",
       "    }\n",
       "\n",
       "    .dataframe thead th {\n",
       "        text-align: right;\n",
       "    }\n",
       "</style>\n",
       "<table border=\"1\" class=\"dataframe\">\n",
       "  <thead>\n",
       "    <tr style=\"text-align: right;\">\n",
       "      <th></th>\n",
       "      <th>Avg. Area Income</th>\n",
       "      <th>Avg. Area House Age</th>\n",
       "      <th>Avg. Area Number of Rooms</th>\n",
       "      <th>Avg. Area Number of Bedrooms</th>\n",
       "      <th>Area Population</th>\n",
       "      <th>Price</th>\n",
       "      <th>Address</th>\n",
       "    </tr>\n",
       "  </thead>\n",
       "  <tbody>\n",
       "    <tr>\n",
       "      <th>0</th>\n",
       "      <td>79545.458574</td>\n",
       "      <td>5.682861</td>\n",
       "      <td>7.009188</td>\n",
       "      <td>4.09</td>\n",
       "      <td>23086.800503</td>\n",
       "      <td>1.059034e+06</td>\n",
       "      <td>208 Michael Ferry Apt. 674\\nLaurabury, NE 3701...</td>\n",
       "    </tr>\n",
       "    <tr>\n",
       "      <th>1</th>\n",
       "      <td>79248.642455</td>\n",
       "      <td>6.002900</td>\n",
       "      <td>6.730821</td>\n",
       "      <td>3.09</td>\n",
       "      <td>40173.072174</td>\n",
       "      <td>1.505891e+06</td>\n",
       "      <td>188 Johnson Views Suite 079\\nLake Kathleen, CA...</td>\n",
       "    </tr>\n",
       "    <tr>\n",
       "      <th>2</th>\n",
       "      <td>61287.067179</td>\n",
       "      <td>5.865890</td>\n",
       "      <td>8.512727</td>\n",
       "      <td>5.13</td>\n",
       "      <td>36882.159400</td>\n",
       "      <td>1.058988e+06</td>\n",
       "      <td>9127 Elizabeth Stravenue\\nDanieltown, WI 06482...</td>\n",
       "    </tr>\n",
       "    <tr>\n",
       "      <th>3</th>\n",
       "      <td>63345.240046</td>\n",
       "      <td>7.188236</td>\n",
       "      <td>5.586729</td>\n",
       "      <td>3.26</td>\n",
       "      <td>34310.242831</td>\n",
       "      <td>1.260617e+06</td>\n",
       "      <td>USS Barnett\\nFPO AP 44820</td>\n",
       "    </tr>\n",
       "    <tr>\n",
       "      <th>4</th>\n",
       "      <td>59982.197226</td>\n",
       "      <td>5.040555</td>\n",
       "      <td>7.839388</td>\n",
       "      <td>4.23</td>\n",
       "      <td>26354.109472</td>\n",
       "      <td>6.309435e+05</td>\n",
       "      <td>USNS Raymond\\nFPO AE 09386</td>\n",
       "    </tr>\n",
       "    <tr>\n",
       "      <th>...</th>\n",
       "      <td>...</td>\n",
       "      <td>...</td>\n",
       "      <td>...</td>\n",
       "      <td>...</td>\n",
       "      <td>...</td>\n",
       "      <td>...</td>\n",
       "      <td>...</td>\n",
       "    </tr>\n",
       "    <tr>\n",
       "      <th>95</th>\n",
       "      <td>73698.696357</td>\n",
       "      <td>6.372731</td>\n",
       "      <td>6.578352</td>\n",
       "      <td>4.33</td>\n",
       "      <td>51815.096419</td>\n",
       "      <td>1.840236e+06</td>\n",
       "      <td>69600 Wilson Rue\\nElizabethland, PW 17767-2884</td>\n",
       "    </tr>\n",
       "    <tr>\n",
       "      <th>96</th>\n",
       "      <td>66263.910501</td>\n",
       "      <td>6.374930</td>\n",
       "      <td>6.736974</td>\n",
       "      <td>4.41</td>\n",
       "      <td>49829.951500</td>\n",
       "      <td>1.441422e+06</td>\n",
       "      <td>001 Steve Plaza\\nJessicastad, UT 25190</td>\n",
       "    </tr>\n",
       "    <tr>\n",
       "      <th>97</th>\n",
       "      <td>75394.759582</td>\n",
       "      <td>6.933352</td>\n",
       "      <td>7.834100</td>\n",
       "      <td>4.48</td>\n",
       "      <td>22268.075306</td>\n",
       "      <td>1.498641e+06</td>\n",
       "      <td>238 Anthony Drive\\nAcostahaven, AS 62753-6637</td>\n",
       "    </tr>\n",
       "    <tr>\n",
       "      <th>98</th>\n",
       "      <td>65984.750645</td>\n",
       "      <td>6.512270</td>\n",
       "      <td>6.316480</td>\n",
       "      <td>2.38</td>\n",
       "      <td>21867.476940</td>\n",
       "      <td>9.547466e+05</td>\n",
       "      <td>01818 Wilson Spurs\\nWest Andreaton, SD 69568-7005</td>\n",
       "    </tr>\n",
       "    <tr>\n",
       "      <th>99</th>\n",
       "      <td>66477.262792</td>\n",
       "      <td>6.982152</td>\n",
       "      <td>6.038488</td>\n",
       "      <td>2.37</td>\n",
       "      <td>32458.986699</td>\n",
       "      <td>1.124636e+06</td>\n",
       "      <td>95779 Walton Square\\nBakershire, PR 49599</td>\n",
       "    </tr>\n",
       "  </tbody>\n",
       "</table>\n",
       "<p>100 rows × 7 columns</p>\n",
       "</div>"
      ],
      "text/plain": [
       "    Avg. Area Income  Avg. Area House Age  Avg. Area Number of Rooms  \\\n",
       "0       79545.458574             5.682861                   7.009188   \n",
       "1       79248.642455             6.002900                   6.730821   \n",
       "2       61287.067179             5.865890                   8.512727   \n",
       "3       63345.240046             7.188236                   5.586729   \n",
       "4       59982.197226             5.040555                   7.839388   \n",
       "..               ...                  ...                        ...   \n",
       "95      73698.696357             6.372731                   6.578352   \n",
       "96      66263.910501             6.374930                   6.736974   \n",
       "97      75394.759582             6.933352                   7.834100   \n",
       "98      65984.750645             6.512270                   6.316480   \n",
       "99      66477.262792             6.982152                   6.038488   \n",
       "\n",
       "    Avg. Area Number of Bedrooms  Area Population         Price  \\\n",
       "0                           4.09     23086.800503  1.059034e+06   \n",
       "1                           3.09     40173.072174  1.505891e+06   \n",
       "2                           5.13     36882.159400  1.058988e+06   \n",
       "3                           3.26     34310.242831  1.260617e+06   \n",
       "4                           4.23     26354.109472  6.309435e+05   \n",
       "..                           ...              ...           ...   \n",
       "95                          4.33     51815.096419  1.840236e+06   \n",
       "96                          4.41     49829.951500  1.441422e+06   \n",
       "97                          4.48     22268.075306  1.498641e+06   \n",
       "98                          2.38     21867.476940  9.547466e+05   \n",
       "99                          2.37     32458.986699  1.124636e+06   \n",
       "\n",
       "                                              Address  \n",
       "0   208 Michael Ferry Apt. 674\\nLaurabury, NE 3701...  \n",
       "1   188 Johnson Views Suite 079\\nLake Kathleen, CA...  \n",
       "2   9127 Elizabeth Stravenue\\nDanieltown, WI 06482...  \n",
       "3                           USS Barnett\\nFPO AP 44820  \n",
       "4                          USNS Raymond\\nFPO AE 09386  \n",
       "..                                                ...  \n",
       "95     69600 Wilson Rue\\nElizabethland, PW 17767-2884  \n",
       "96             001 Steve Plaza\\nJessicastad, UT 25190  \n",
       "97      238 Anthony Drive\\nAcostahaven, AS 62753-6637  \n",
       "98  01818 Wilson Spurs\\nWest Andreaton, SD 69568-7005  \n",
       "99          95779 Walton Square\\nBakershire, PR 49599  \n",
       "\n",
       "[100 rows x 7 columns]"
      ]
     },
     "execution_count": 78,
     "metadata": {},
     "output_type": "execute_result"
    }
   ],
   "source": [
    "cx=data.head(100)\n",
    "cx"
   ]
  },
  {
   "cell_type": "code",
   "execution_count": 79,
   "id": "357eeba0",
   "metadata": {},
   "outputs": [
    {
     "data": {
      "text/plain": [
       "array([23086.80050269, 40173.07217364, 36882.1593997 , 34310.24283091,\n",
       "       26354.1094721 , 26748.42842469, 60828.24908541, 36516.35897249,\n",
       "       29387.39600282, 40149.96574921, 47224.35984022, 34343.99188558,\n",
       "       39220.36146737, 32326.12313949, 35521.29403317, 23929.52405327,\n",
       "       39717.81357631, 24595.90149782, 35719.65305203, 44922.10670229,\n",
       "       47560.7753363 , 45574.74166226, 40358.96010562, 28140.96708772,\n",
       "       27809.98654376, 40694.86951302, 38853.91806648, 27784.74228019,\n",
       "       33970.16499037, 37520.65773245, 33754.73780498, 39355.62572947,\n",
       "       30122.47348356, 16810.78331126, 22355.23540667, 39395.15118233,\n",
       "       27637.65654822, 22836.60756949, 32947.71195507, 47162.18364319,\n",
       "       39705.46495936, 32778.19534189, 27161.12860795, 43183.92848788,\n",
       "       26888.57956294, 39741.07750943, 35261.12701837, 19030.61548677,\n",
       "       21725.95428963, 43017.44075715, 41084.66282463, 26881.13059797,\n",
       "       35263.65313745, 54915.96178198, 24377.90904932, 27825.57206129,\n",
       "       21030.96617717, 18267.95470564, 32537.81876892, 36252.34068234,\n",
       "       37098.74217235, 33579.63151217, 43347.80400115, 36543.06728055,\n",
       "       58600.82714968, 37585.27457623, 40110.84760495, 49481.5658076 ,\n",
       "       31019.32482069, 41640.43566066, 43282.18300425, 37283.35764595,\n",
       "       44023.79068493, 29682.40986423, 33197.77774263, 40458.73586952,\n",
       "       32402.10754915, 60286.04310136, 34171.36007367, 39318.17075472,\n",
       "       30865.58695375, 48423.32244418, 36271.40849575, 52947.03636009,\n",
       "       47075.21223267, 36115.8163644 , 28366.03543185, 42806.1466438 ,\n",
       "       46974.57878575, 35517.5418704 , 32960.75307019, 28882.90085467,\n",
       "       29268.82674168, 35114.40246349, 39388.51552108, 51815.09641862,\n",
       "       49829.95150048, 22268.07530558, 21867.47693989, 32458.98669901])"
      ]
     },
     "execution_count": 79,
     "metadata": {},
     "output_type": "execute_result"
    }
   ],
   "source": [
    "x=cx[\"Area Population\"].values\n",
    "x"
   ]
  },
  {
   "cell_type": "code",
   "execution_count": 80,
   "id": "831ef0d5",
   "metadata": {},
   "outputs": [
    {
     "data": {
      "text/plain": [
       "array([1059033.55787012, 1505890.91484695, 1058987.98787608,\n",
       "       1260616.80662945,  630943.48933854, 1068138.07439353,\n",
       "       1502055.81737441, 1573936.56447772,  798869.53283316,\n",
       "       1545154.81264196, 1707045.72215806,  663732.39689633,\n",
       "       1042814.09782009, 1291331.51848582, 1402818.21016585,\n",
       "       1306674.6599512 , 1556786.60019477,  528485.2467306 ,\n",
       "       1019425.93675783, 1030591.42921161, 2146925.33988866,\n",
       "        929247.5995364 ,  718887.23150093,  743999.8191602 ,\n",
       "        895737.13338351, 1453974.50595087, 1125692.50729529,\n",
       "        975429.49279292, 1240763.76557148, 1577017.76000155,\n",
       "       1246830.18842863, 1170720.89365429, 1071279.21024454,\n",
       "        534305.13233493,  936368.96340486, 1199193.83132951,\n",
       "       1233220.00947781, 1081150.12548381,  524712.76606745,\n",
       "        302355.83597896, 1026817.39978846, 1762214.67958189,\n",
       "        882057.17059284, 1744932.21099093, 1153871.46950163,\n",
       "       1499988.87952261, 1109588.38016251,  980177.30513713,\n",
       "       1323952.02742518, 1662494.73554439, 1417819.74021809,\n",
       "        549976.14555958, 1054770.98064753, 1415647.55343724,\n",
       "        948788.27570945, 1159596.51861962, 1547133.39640045,\n",
       "       1186688.50593835,  772111.9721021 , 1172730.15576932,\n",
       "       1111085.01689106, 1022781.17074291, 1274474.54589349,\n",
       "       1213530.84986587, 1411730.47725883,  858685.56592496,\n",
       "       1200961.82092263, 1520234.22937746, 1360908.31962001,\n",
       "       1360920.53038608, 1146532.45474056, 1789098.52069149,\n",
       "        852099.46402685,  746096.72890049, 1534479.90656442,\n",
       "       1215608.53105597,  941594.32841077, 1204598.03746313,\n",
       "       1597655.25841228, 1492011.49586213, 1421216.50444086,\n",
       "       1132522.90129471, 1102821.43818081, 1856211.3503596 ,\n",
       "       1687998.93296047, 1063423.00726487, 1177289.88620479,\n",
       "       1173474.37883732, 1637259.99866779, 1238938.290532  ,\n",
       "        201898.0865725 , 1439506.10155701,  585608.63262223,\n",
       "       1294685.15854701, 2014851.34416151, 1840236.00580269,\n",
       "       1441421.91299361, 1498640.55065037,  954746.57643282,\n",
       "       1124635.93162859])"
      ]
     },
     "execution_count": 80,
     "metadata": {},
     "output_type": "execute_result"
    }
   ],
   "source": [
    "y=cx[\"Price\"].values\n",
    "y"
   ]
  },
  {
   "cell_type": "code",
   "execution_count": 81,
   "id": "ff7b0dfd",
   "metadata": {},
   "outputs": [
    {
     "data": {
      "image/png": "[encoded data removed]",
      "text/plain": [
       "<Figure size 432x288 with 1 Axes>"
      ]
     },
     "metadata": {
      "needs_background": "light"
     },
     "output_type": "display_data"
    }
   ],
   "source": [
    "plt.scatter(x, y,  color='blue')\n",
    "plt.xlabel(\"size\")\n",
    "plt.ylabel(\"price\")\n",
    "plt.show()"
   ]
  },
  {
   "cell_type": "code",
   "execution_count": 82,
   "id": "45a675f5",
   "metadata": {},
   "outputs": [
    {
     "data": {
      "text/plain": [
       "array([23086.80050269, 40173.07217364, 36882.1593997 , 34310.24283091,\n",
       "       26354.1094721 , 26748.42842469, 60828.24908541, 36516.35897249,\n",
       "       29387.39600282, 40149.96574921, 47224.35984022, 34343.99188558,\n",
       "       39220.36146737, 32326.12313949, 35521.29403317, 23929.52405327,\n",
       "       39717.81357631, 24595.90149782, 35719.65305203, 44922.10670229,\n",
       "       47560.7753363 , 45574.74166226, 40358.96010562, 28140.96708772,\n",
       "       27809.98654376, 40694.86951302, 38853.91806648, 27784.74228019,\n",
       "       33970.16499037, 37520.65773245, 33754.73780498, 39355.62572947,\n",
       "       30122.47348356, 16810.78331126, 22355.23540667, 39395.15118233,\n",
       "       27637.65654822, 22836.60756949, 32947.71195507, 47162.18364319,\n",
       "       39705.46495936, 32778.19534189, 27161.12860795, 43183.92848788,\n",
       "       26888.57956294, 39741.07750943, 35261.12701837, 19030.61548677,\n",
       "       21725.95428963, 43017.44075715, 41084.66282463, 26881.13059797,\n",
       "       35263.65313745, 54915.96178198, 24377.90904932, 27825.57206129,\n",
       "       21030.96617717, 18267.95470564, 32537.81876892, 36252.34068234,\n",
       "       37098.74217235, 33579.63151217, 43347.80400115, 36543.06728055,\n",
       "       58600.82714968, 37585.27457623, 40110.84760495, 49481.5658076 ,\n",
       "       31019.32482069, 41640.43566066, 43282.18300425, 37283.35764595,\n",
       "       44023.79068493, 29682.40986423, 33197.77774263, 40458.73586952,\n",
       "       32402.10754915, 60286.04310136, 34171.36007367, 39318.17075472,\n",
       "       30865.58695375, 48423.32244418, 36271.40849575, 52947.03636009,\n",
       "       47075.21223267, 36115.8163644 , 28366.03543185, 42806.1466438 ,\n",
       "       46974.57878575, 35517.5418704 , 32960.75307019, 28882.90085467,\n",
       "       29268.82674168, 35114.40246349, 39388.51552108, 51815.09641862,\n",
       "       49829.95150048, 22268.07530558, 21867.47693989, 32458.98669901])"
      ]
     },
     "execution_count": 82,
     "metadata": {},
     "output_type": "execute_result"
    }
   ],
   "source": [
    "from sklearn.model_selection import train_test_split\n",
    "x_train,x_test,y_train,y_test=train_test_split(x,y,test_size=0.7,random_state=100)\n",
    "x"
   ]
  },
  {
   "cell_type": "code",
   "execution_count": 83,
   "id": "04d42996",
   "metadata": {},
   "outputs": [
    {
     "data": {
      "text/plain": [
       "LinearRegression()"
      ]
     },
     "execution_count": 83,
     "metadata": {},
     "output_type": "execute_result"
    }
   ],
   "source": [
    "from sklearn.linear_model import LinearRegression\n",
    "ml=LinearRegression()\n",
    "ml.fit(x_train.reshape(-1,1),y_train)"
   ]
  },
  {
   "cell_type": "code",
   "execution_count": 84,
   "id": "7bac6b3c",
   "metadata": {},
   "outputs": [
    {
     "data": {
      "text/plain": [
       "array([1010132.28679882, 1412997.6958437 , 1324732.18674457,\n",
       "       1205397.43565672, 1335362.67830712, 1360890.76286729,\n",
       "       1104430.86012211,  891777.60365229, 1745685.77897615,\n",
       "       1456737.52129693, 1270952.46375817, 1368546.78831894,\n",
       "       1136469.07151567, 1379462.85806978, 1540315.1350046 ,\n",
       "       1232760.92375969, 1426274.91508229, 1086965.31378437,\n",
       "       1341457.62684563, 1236151.62725917, 1298545.29552042,\n",
       "       1601538.55857116, 1274008.486738  , 1409778.97694023,\n",
       "       1228809.20208415, 1354293.08431319, 1114316.5051185 ,\n",
       "       1208983.09649967, 1118737.12732952, 1495745.69281601,\n",
       "       1153235.75526278, 1756335.37888021, 1235488.7538495 ,\n",
       "       1331929.59090788, 1089571.74951798, 1486208.62953395,\n",
       "       1144592.35844301, 1712586.04167096, 1040405.36488084,\n",
       "       1170851.03099719, 1356252.80441388, 1213638.55586958,\n",
       "        920398.26221805, 1095071.25868595, 1198010.6036421 ,\n",
       "       1199127.78088983, 1044687.00770108, 1251283.44921972,\n",
       "       1279344.20315139, 1015046.38718822, 1263171.32356876,\n",
       "       1089718.0564548 , 1208726.95277857, 1342157.10162282,\n",
       "       1487916.85620869, 1411708.81784734, 1335232.34566692,\n",
       "       1224577.94422216, 1293884.42667584, 1254165.30196859,\n",
       "        974667.24405845, 1167831.42807647, 1128889.00709331,\n",
       "       1484232.06347208, 1443918.9589581 , 1512687.1908215 ,\n",
       "       1108121.75452183, 1259201.60858262, 1221138.63884   ,\n",
       "       1299814.45070047])"
      ]
     },
     "execution_count": 84,
     "metadata": {},
     "output_type": "execute_result"
    }
   ],
   "source": [
    "y_predict=ml.predict(x_test.reshape(-1,1))\n",
    "y_predict"
   ]
  },
  {
   "cell_type": "code",
   "execution_count": 85,
   "id": "49e3368f",
   "metadata": {},
   "outputs": [
    {
     "data": {
      "text/plain": [
       "0.0322310761079192"
      ]
     },
     "execution_count": 85,
     "metadata": {},
     "output_type": "execute_result"
    }
   ],
   "source": [
    "from sklearn.metrics import r2_score\n",
    "r2_score(y_test,y_predict)"
   ]
  },
  {
   "cell_type": "code",
   "execution_count": 86,
   "id": "cc3b22b4",
   "metadata": {},
   "outputs": [
    {
     "data": {
      "image/png": "[encoded data removed]",
      "text/plain": [
       "<Figure size 432x288 with 1 Axes>"
      ]
     },
     "metadata": {
      "needs_background": "light"
     },
     "output_type": "display_data"
    }
   ],
   "source": [
    "import matplotlib.pyplot as plt\n",
    "plt.title('linear regression')\n",
    "plt.xlabel('actual')\n",
    "plt.ylabel('predicted')\n",
    "plt.scatter(x_test,y_test)\n",
    "plt.plot(x_test,y_predict,c=\"r\")\n",
    "plt.show()\n"
   ]
  },
  {
   "cell_type": "code",
   "execution_count": null,
   "id": "cfd08ccd",
   "metadata": {},
   "outputs": [],
   "source": []
  }
 ],
 "metadata": {
  "kernelspec": {
   "display_name": "Python 3 (ipykernel)",
   "language": "python",
   "name": "python3"
  },
  "language_info": {
   "codemirror_mode": {
    "name": "ipython",
    "version": 3
   },
   "file_extension": ".py",
   "mimetype": "text/x-python",
   "name": "python",
   "nbconvert_exporter": "python",
   "pygments_lexer": "ipython3",
   "version": "3.9.12"
  }
 },
 "nbformat": 4,
 "nbformat_minor": 5
}
