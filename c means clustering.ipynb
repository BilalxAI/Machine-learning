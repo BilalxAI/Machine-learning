{
 "cells": [
  {
   "cell_type": "markdown",
   "id": "80d62f18",
   "metadata": {},
   "source": [
    "<p style=\"text-align:center\">\n",
    "    <a href=\"https://www.linkedin.com/company/mt-learners/?viewAsMember=true\" target=\"_blank\">\n",
    "    <img src=\"https://github.com/Mr-MeerMoazzam/Mr-MeerMoazzam/blob/main/Untitled-2.jpg?raw=true\" width=\"150\" alt=\"MT Learners\"  />\n",
    "    </a>\n",
    "</p>"
   ]
  },
  {
   "cell_type": "code",
   "execution_count": 1,
   "id": "f6432423",
   "metadata": {},
   "outputs": [],
   "source": [
    "#Fuzzy c means clustering algorithm\n",
    "import numpy as np, numpy.random\n",
    "from scipy.spatial import distance"
   ]
  },
  {
   "cell_type": "code",
   "execution_count": 3,
   "id": "8427edab",
   "metadata": {},
   "outputs": [
    {
     "name": "stdout",
     "output_type": "stream",
     "text": [
      "The FCM algorithm: \n",
      "\n",
      "The training data: \n",
      " [[ 1.  1.  2.  1.  0.]\n",
      " [ 2.  1.  2.  3.  0.]\n",
      " [ 2.  2.  4.  5.  0.]\n",
      " [50. 42.  2. 83.  0.]\n",
      " [51. 43.  1. 82.  0.]\n",
      " [51. 44.  3. 89.  0.]\n",
      " [53. 40.  8. 80.  0.]]\n",
      "\n",
      "Total number of data:  7\n",
      "Total number of features:  4\n",
      "Total number of Clusters:  2\n"
     ]
    }
   ],
   "source": [
    "X = np.array([\n",
    "        [1,1,2,1], \n",
    "        [2,1,2,3], \n",
    "        [2,2,4,5], \n",
    "        [50,42,2,83],\n",
    "        [51,43,1,82],\n",
    "        [51,44,3,89],\n",
    "        [53,40,8,80]])\n",
    "\n",
    "k = 2\n",
    "p = 5\n",
    "# Print the number of data and dimension \n",
    "n = len(X)\n",
    "d = len(X[0])\n",
    "addZeros = np.zeros((n, 1))\n",
    "X = np.append(X, addZeros, axis=1)\n",
    "print(\"The FCM algorithm: \\n\")\n",
    "print(\"The training data: \\n\", X)\n",
    "print(\"\\nTotal number of data: \",n)\n",
    "print(\"Total number of features: \",d)\n",
    "print(\"Total number of Clusters: \",k)"
   ]
  },
  {
   "cell_type": "code",
   "execution_count": 5,
   "id": "9c7f5c0d",
   "metadata": {},
   "outputs": [
    {
     "name": "stdout",
     "output_type": "stream",
     "text": [
      "[[0. 0. 0. 0. 0.]\n",
      " [0. 0. 0. 0. 0.]]\n",
      "\n",
      "The initial weight: \n",
      " [[0.86 0.14]\n",
      " [0.59 0.41]\n",
      " [0.68 0.32]\n",
      " [0.42 0.58]\n",
      " [0.22 0.78]\n",
      " [0.15 0.85]\n",
      " [0.69 0.31]]\n"
     ]
    }
   ],
   "source": [
    "# Create an empty array of centers\n",
    "C = np.zeros((k,d+1))\n",
    "print(C)\n",
    "\n",
    "# Randomly initialize the weight matrix\n",
    "weight = np.random.dirichlet(np.ones(k),size=n)\n",
    "print(\"\\nThe initial weight: \\n\", np.round(weight,2))"
   ]
  },
  {
   "cell_type": "code",
   "execution_count": 6,
   "id": "931d75d8",
   "metadata": {},
   "outputs": [
    {
     "name": "stdout",
     "output_type": "stream",
     "text": [
      "\n",
      "The final weights: \n",
      " [[0.52 0.48]\n",
      " [0.52 0.48]\n",
      " [0.51 0.49]\n",
      " [0.5  0.5 ]\n",
      " [0.5  0.5 ]\n",
      " [0.5  0.5 ]\n",
      " [0.5  0.5 ]]\n"
     ]
    }
   ],
   "source": [
    "for it in range(3): # Total number of iterations\n",
    "    \n",
    "    # Compute centroid\n",
    "    for j in range(k):\n",
    "        denoSum = sum(np.power(weight[:,j],2))\n",
    "        \n",
    "        sumMM =0\n",
    "        for i in range(n):\n",
    "            mm = np.multiply(np.power(weight[i,j],p),X[i,:])\n",
    "            sumMM +=mm\n",
    "        cc = sumMM/denoSum\n",
    "        C[j] = np.reshape(cc,d+1)\n",
    " \n",
    "    #print(\"\\nUpdating the fuzzy pseudo partition\")\n",
    "    for i in range(n):\n",
    "        denoSumNext = 0\n",
    "        for j in range(k):\n",
    "             denoSumNext += np.power(1/distance.euclidean(C[j,0:d], X[i,0:d]),1/(p-1))\n",
    "        for j in range(k):\n",
    "            w = np.power((1/distance.euclidean(C[j,0:d], X[i,0:d])),1/(p-1))/denoSumNext\n",
    "            weight[i,j] = w  \n",
    "            \n",
    "print(\"\\nThe final weights: \\n\", np.round(weight,2))"
   ]
  },
  {
   "cell_type": "code",
   "execution_count": 7,
   "id": "1e04c9a3",
   "metadata": {},
   "outputs": [
    {
     "name": "stdout",
     "output_type": "stream",
     "text": [
      "\n",
      "The data with cluster number: \n",
      " [[ 1.  1.  2.  1.  0.]\n",
      " [ 2.  1.  2.  3.  0.]\n",
      " [ 2.  2.  4.  5.  0.]\n",
      " [50. 42.  2. 83.  1.]\n",
      " [51. 43.  1. 82.  1.]\n",
      " [51. 44.  3. 89.  1.]\n",
      " [53. 40.  8. 80.  1.]]\n",
      "\n",
      "SSE:  25.6798\n"
     ]
    }
   ],
   "source": [
    "for i in range(n):    \n",
    "    cNumber = np.where(weight[i] == np.amax(weight[i]))\n",
    "    X[i,d] = cNumber[0]\n",
    "    \n",
    "print(\"\\nThe data with cluster number: \\n\", X)\n",
    "\n",
    "SSE = 0\n",
    "for j in range(k):\n",
    "    for i in range(n):\n",
    "        SSE += np.power(weight[i,j],p)*distance.euclidean(C[j,0:d], X[i,0:d])\n",
    "\n",
    "print(\"\\nSSE: \",np.round(SSE,4))"
   ]
  },
  {
   "cell_type": "markdown",
   "id": "a4981831",
   "metadata": {},
   "source": [
    "## Thank you\n",
    "## Author"
   ]
  },
  {
   "cell_type": "markdown",
   "id": "8373eace",
   "metadata": {},
   "source": [
    "<a href=\"https://www.linkedin.com/in/muhammad-bilal-afzal-95b33323b/\">Muhammad Bilal </a>"
   ]
  },
  {
   "cell_type": "markdown",
   "id": "b9e4021c",
   "metadata": {},
   "source": [
    "<div data-mime-type=\"text/markdown\" class=\"jp-RenderedHTMLCommon jp-RenderedMarkdown jp-MarkdownOutput\">\n",
    "<hr>\n",
    "\n",
    "<h2></h2><h3 align=\"center\"> © <a href=\"https://www.linkedin.com/company/mt-learners/\">Mt Learners</a> 2022. All rights reserved. </h3><h3></h3>\n",
    "\n",
    "</div>"
   ]
  }
 ],
 "metadata": {
  "kernelspec": {
   "display_name": "Python 3 (ipykernel)",
   "language": "python",
   "name": "python3"
  },
  "language_info": {
   "codemirror_mode": {
    "name": "ipython",
    "version": 3
   },
   "file_extension": ".py",
   "mimetype": "text/x-python",
   "name": "python",
   "nbconvert_exporter": "python",
   "pygments_lexer": "ipython3",
   "version": "3.9.12"
  }
 },
 "nbformat": 4,
 "nbformat_minor": 5
}
